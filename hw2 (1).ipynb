{
 "cells": [
  {
   "cell_type": "markdown",
   "metadata": {},
   "source": [
    "# HW2: Multivariate linear regression\n",
    "\n",
    "HW2 is required to finish the following tasks based on this incomplete Notebook file. The final submission should include the completed code snippets, obtained results, and the given answers. You can get the PDF submission by \"File -> Download as -> HTML,\" then open your downloaded HTML file via a browser and print the webpage as a PDF file.\n",
    "\n",
    "- Given a dataset, implement a multivariate linear regression model and show the training/validation/testing MSE errors (30pts).\n",
    "- Implement a Ridge regression based model on step 1 (20 pts)\n",
    "- Tune the hyperparameter $\\alpha$ of Ridge regression on the validation set. Plot training/validation MSE errors over the given range. (30 pts)  \n",
    "- Choose one hyperparameter from step 3. Given the same hyperparameter, compare your Ridge regression model and the Sklearn-Ridge regression on the testing set. (20 pts)\n",
    "---"
   ]
  },
  {
   "cell_type": "markdown",
   "metadata": {},
   "source": [
    "## Preliminary\n",
    "\n",
    "We start from a given dataset, digits, which has $N=1797$ samples with $D=64$ features. The digits dataset is generally used for a classification task. Here, however, we tailor it as a multivariate regression problem: we aim to predict the last 8 features upon the given 56 features, resulting in $\\mathbf{X} \\in \\mathbb{R}^{1797 \\times 56}$ and $\\mathbf{Y} \\in \\mathbb{R}^{1797 \\times 8}$. Linear/Ridge regression models learn $\\mathbf{W} \\in \\mathbb{R}^{56 \\times 8}: \\mathbf{X} \\rightarrow \\mathbf{Y}$.\n",
    "\n",
    "**Hint:** You may refer to the Lab 5 for solving the Q1. Think about the difference between (univariate) linear regression and multivariate linear regression."
   ]
  },
  {
   "cell_type": "code",
   "execution_count": 2,
   "metadata": {},
   "outputs": [
    {
     "name": "stdout",
     "output_type": "stream",
     "text": [
      "(1078, 56)\n",
      "(1078, 8)\n",
      "[1081 1707  927 ... 1653  559  684]\n"
     ]
    }
   ],
   "source": [
    "%matplotlib inline\n",
    "\n",
    "import numpy as np\n",
    "from sklearn import linear_model\n",
    "from sklearn.datasets import load_digits\n",
    "import matplotlib.pyplot as plt \n",
    "\n",
    "# We first split the dataset into training/vaidation/test\n",
    "# load dataset\n",
    "digits = load_digits()\n",
    "# normalzied features to range [0,1]\n",
    "data = digits.data / 16.\n",
    "N, _ = data.shape\n",
    "D = 56 # pre-defined feature dimension\n",
    "X = data[:, :D]\n",
    "Y = data[:, D:]\n",
    "# random shuffle the data\n",
    "np.random.seed(0)\n",
    "ind = np.random.permutation(N)\n",
    "# split the data as 0.6/0.2/0.2\n",
    "n1, n2 = int(0.6*N), int(0.8*N)\n",
    "X_trn, Y_trn = X[ind[:n1]], Y[ind[:n1]]\n",
    "X_val, Y_val = X[ind[n1:n2]], Y[ind[n1:n2]]\n",
    "X_tst, Y_tst = X[ind[n2:]], Y[ind[n2:]]\n",
    "print(X_trn.shape)\n",
    "print(Y_trn.shape)\n",
    "print(ind)"
   ]
  },
  {
   "cell_type": "code",
   "execution_count": 3,
   "metadata": {},
   "outputs": [],
   "source": [
    "def mse(y_hat, y):\n",
    "    return ((y_hat-y)**2).sum()/len(y)"
   ]
  },
  {
   "cell_type": "markdown",
   "metadata": {},
   "source": [
    "### Q1: Implement a multivariate linear regression model\n",
    "\n",
    "$\\mathcal{L}_{w} = \\frac{1}{2} \\|\\mathbf{Y} - \\mathbf{X}\\mathbf{W}\\|^{2}_{\\mathrm{F}}$, $\\mathbf{W}^{*} = \\texttt{argmin}_{\\mathbf{W}}\\mathcal{L}_{w}=(\\mathbf{X}^{T}\\mathbf{X})^{-1}\\mathbf{X}^{T}\\mathbf{Y}$\n",
    "\n",
    "For a given matrix $\\mathbf{A}$, $\\|\\mathbf{A}\\|_{\\mathrm{F}}$ is defined as $\\|\\mathbf{A}\\|_{\\mathrm{F}}=\\sqrt{\\sum_{i}\\sum_{j}\\mathbf{A}_{ij}^2}$. You may refer to [Matrix norm](https://en.wikipedia.org/wiki/Matrix_norm) for more details about the vector norm and matrix norm.\n",
    "\n",
    "Note that, it is common to raise a \"singular matrix error\" when computing $(\\mathbf{X}^{T}\\mathbf{X})^{-1}$. One common trick is to compute $(\\mathbf{X}^{T}\\mathbf{X} + \\epsilon \\mathbf{I})^{-1}$ instead, where $\\epsilon$ could be set as $1e-8$."
   ]
  },
  {
   "cell_type": "code",
   "execution_count": 4,
   "metadata": {},
   "outputs": [
    {
     "name": "stdout",
     "output_type": "stream",
     "text": [
      "(56, 8)\n",
      "linear regression: training err=0.148, validation err =0.161, testing err=0.166\n"
     ]
    }
   ],
   "source": [
    "# TODO: get the predictions via your linear regression model\n",
    "\n",
    "w_l = np.matmul(np.matmul(np.linalg.inv(np.add(np.matmul(np.transpose(X_trn), X_trn),(1e-8*np.identity(D)))), np.transpose(X_trn)), Y_trn)\n",
    "print(w_l.shape)\n",
    "\n",
    "y_trn_hat = np.matmul(X_trn, w_l)\n",
    "y_val_hat = np.matmul(X_val, w_l)\n",
    "y_tst_hat = np.matmul(X_tst, w_l)\n",
    "# print the training/validation/testing MSE error by using the mse function\n",
    "print(\"linear regression: training err={:.3f}, validation err ={:.3f}, testing err={:.3f}\".format(mse(y_trn_hat,Y_trn), mse(y_val_hat, Y_val), mse(y_tst_hat, Y_tst)))"
   ]
  },
  {
   "cell_type": "markdown",
   "metadata": {},
   "source": [
    "### Q2: Implement a multivariate Ridge regression model\n",
    "For Ridge regression, we have\n",
    "$\\mathcal{L}_{w} = \\frac{1}{2}( \\|\\mathbf{Y} - \\mathbf{X}\\mathbf{W}\\|_{\\mathrm{F}}^{2} + \\alpha \\|\\mathbf{W}\\|_{\\mathrm{F}}^{2}$), $\\mathbf{W}^{*} = \\texttt{argmin}_{\\mathbf{W}}\\mathcal{L}_{w}=(\\mathbf{X}^{T}\\mathbf{X} + \\alpha \\mathbf{I})^{-1}\\mathbf{X}^{T}\\mathbf{Y}$, \n",
    "where $\\alpha > 0 $ is a trade-off hyperparameter balancing regression error and $\\ell_2$ regularization."
   ]
  },
  {
   "cell_type": "code",
   "execution_count": 5,
   "metadata": {},
   "outputs": [
    {
     "name": "stdout",
     "output_type": "stream",
     "text": [
      "(56, 8)\n"
     ]
    }
   ],
   "source": [
    "# Todo: give the W solution for ridge regression\n",
    "alpha = 150\n",
    "X_scatter = np.matmul(X_trn.T, X_trn) + alpha*np.identity(D)\n",
    "\n",
    "\n",
    "w_r = np.matmul(np.matmul(np.linalg.inv(X_scatter),np.transpose(X_trn)),Y_trn)\n",
    "print(w_r.shape)\n"
   ]
  },
  {
   "cell_type": "markdown",
   "metadata": {},
   "source": [
    "### Q3: Tune the hyperparameter $\\alpha$ on the validation set \n",
    "We may utilize the Sklearn implemntation for tuning the hyperparameter of a ridge regression model."
   ]
  },
  {
   "cell_type": "code",
   "execution_count": 12,
   "metadata": {},
   "outputs": [
    {
     "data": {
      "image/png": "[encoded data removed]",
      "text/plain": [
       "<Figure size 576x432 with 1 Axes>"
      ]
     },
     "metadata": {
      "needs_background": "light"
     },
     "output_type": "display_data"
    },
    {
     "name": "stdout",
     "output_type": "stream",
     "text": [
      "alpha with the lowest loss was 0.1\n"
     ]
    }
   ],
   "source": [
    "alphas = [0.001, 0.01, 0.1, 0, 1, 5, 10, 20, 50, 100]\n",
    "loss_trns = []\n",
    "loss_vals = []\n",
    "for alpha in alphas:\n",
    "    # instantiate a ridge regression model with a given alpha\n",
    "    model = linear_model.Ridge(alpha=alpha, fit_intercept=False)\n",
    "    # TODO: training the model and get the training and validation loss for each alpha\n",
    "    # train model?\n",
    "    model.fit(X_trn, Y_trn)\n",
    "    Y_model_trn = model.predict(X_trn)\n",
    "    Y_model_val = model.predict(X_val)\n",
    "    \n",
    "    loss_trns.append(mse(Y_model_trn, Y_trn))\n",
    "    loss_vals.append(mse(Y_model_val, Y_val))\n",
    "\n",
    "fig, ax = plt.subplots(figsize=(8,6))\n",
    "plt.grid(which='both',axis='both', color='grey',linestyle=':')\n",
    "\n",
    "# TODO plot the training and validation loss below\n",
    "plt.plot(loss_trns, label = \"Training Loss\")\n",
    "plt.plot(loss_vals, label = \"Validation Loss\")\n",
    "\n",
    "# TODO how to plot the best validation loss?\n",
    "min_loss = min(loss_vals)\n",
    "min_loss_index = loss_vals.index(min_loss)\n",
    "\n",
    "# For example, if you want to hilight one horizontal line. \n",
    "\n",
    "\n",
    "plt.ylabel('MSE', fontsize=18)\n",
    "plt.xlabel(r'${\\alpha}$s', fontsize=18)\n",
    "plt.xticks(np.arange(len(alphas)), alphas, fontsize=12)\n",
    "# TODO: add a legend\n",
    "plt.legend(fancybox=True, framealpha=0.5, fontsize=18)\n",
    "plt.show()\n",
    "print(\"alpha with the lowest loss was\",alphas[min_loss_index])"
   ]
  },
  {
   "cell_type": "markdown",
   "metadata": {},
   "source": [
    "### Q4: Compare your ridge regression model with the Sklearn implmentation"
   ]
  },
  {
   "cell_type": "code",
   "execution_count": 14,
   "metadata": {},
   "outputs": [
    {
     "name": "stdout",
     "output_type": "stream",
     "text": [
      "My Ridge Regression: training err=0.148, validation err =0.158, testing err=0.165\n",
      "Sklearn Ridge Regression: training err=0.148, validation err =0.158, testing err=0.165\n"
     ]
    }
   ],
   "source": [
    "# TODO: select alpha from Q1-3\n",
    "alpha = alphas[min_loss_index]\n",
    "X_scatter = np.matmul(X_trn.T, X_trn) + alpha*np.identity(D)\n",
    "w_r = np.matmul(np.matmul(np.linalg.inv(X_scatter),np.transpose(X_trn)),Y_trn)\n",
    "# Given w_r from Q1-2\n",
    "\n",
    "y_r_trn = np.matmul(X_trn, w_r)\n",
    "y_r_val = np.matmul(X_val, w_r)\n",
    "y_r_tst = np.matmul(X_tst, w_r)\n",
    "# print the training/validation/testing MSE error by using the mse function\n",
    "print(\"My Ridge Regression: training err={:.3f}, validation err ={:.3f}, testing err={:.3f}\".format(mse(y_r_trn,Y_trn), mse(y_r_val, Y_val), mse(y_r_tst, Y_tst)))\n",
    "# sklearn model with the same alpha\n",
    "model = linear_model.Ridge(alpha=alpha, fit_intercept=False)\n",
    "model.fit(X_trn, Y_trn)\n",
    "Y_model_trn = model.predict(X_trn)\n",
    "Y_model_val = model.predict(X_val)\n",
    "Y_model_tst = model.predict(X_tst)\n",
    "# train the model \n",
    "# print the training/validation/testing MSE error by using the mse function\n",
    "print(\"Sklearn Ridge Regression: training err={:.3f}, validation err ={:.3f}, testing err={:.3f}\".format(mse(Y_model_trn,Y_trn), mse(Y_model_val, Y_val), mse(Y_model_tst, Y_tst)))"
   ]
  },
  {
   "cell_type": "code",
   "execution_count": null,
   "metadata": {},
   "outputs": [],
   "source": []
  }
 ],
 "metadata": {
  "kernelspec": {
   "display_name": "Python 3",
   "language": "python",
   "name": "python3"
  },
  "language_info": {
   "codemirror_mode": {
    "name": "ipython",
    "version": 3
   },
   "file_extension": ".py",
   "mimetype": "text/x-python",
   "name": "python",
   "nbconvert_exporter": "python",
   "pygments_lexer": "ipython3",
   "version": "3.8.8"
  }
 },
 "nbformat": 4,
 "nbformat_minor": 4
}
