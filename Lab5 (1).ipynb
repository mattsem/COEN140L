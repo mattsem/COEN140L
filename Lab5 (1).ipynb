{
 "cells": [
  {
   "cell_type": "markdown",
   "metadata": {},
   "source": [
    "# Lab5: Linear regression\n",
    "\n",
    "Lab5 is required to finish the following tasks based on this incomplete Notebook file. \n",
    "\n",
    "## Preliminary\n",
    "\n",
    "Linear model: model prediction is a **linearly weighted sum** of input features, such as \n",
    "$$y = \\sum_{i=1}^{D} w_ix_i = \\mathbf{w}^{T}\\mathbf{x},$$ \n",
    "where $\\mathbf{w} \\in \\mathrm{R}^{D}$ is called as the model parameter or mapping weight."
   ]
  },
  {
   "cell_type": "code",
   "execution_count": 45,
   "metadata": {},
   "outputs": [
    {
     "name": "stdout",
     "output_type": "stream",
     "text": [
      "This data set is given with 506 sampels and 13 features\n"
     ]
    }
   ],
   "source": [
    "%matplotlib inline\n",
    "\n",
    "import numpy as np\n",
    "import matplotlib.pyplot as plt\n",
    "from pdb import set_trace as st\n",
    "from sklearn.datasets import load_boston\n",
    "from sklearn import linear_model\n",
    "\n",
    "\n",
    "# Let's load a real-world data set first\n",
    "X, y = load_boston(return_X_y=True)\n",
    "N,D = X.shape\n",
    "assert len(X)==len(y), print('inequal # of samples and labels')\n",
    "print('This data set is given with {} sampels and {} features'.format(N, D))"
   ]
  },
  {
   "cell_type": "code",
   "execution_count": 17,
   "metadata": {},
   "outputs": [
    {
     "name": "stdout",
     "output_type": "stream",
     "text": [
      "[  1  15  21  37  45  46  78  97 100 102 107 113 144 153 154 162 171 173\n",
      " 175 196 219 241 247 278 293 297 299 310 320 329 330 340 342 363 367 371\n",
      " 372 386 400 403 411 418 430 446 459 474 475 478 480 487]\n"
     ]
    }
   ],
   "source": [
    "# Hold out a proportion of data as the testing set\n",
    "# We do random sampling and save a seed for repeating results\n",
    "np.random.seed(0)\n",
    "ratio = 0.1\n",
    "ind = np.random.choice(len(y), int(ratio*len(y)), replace=False)\n",
    "ind = np.sort(ind)\n",
    "print(ind)"
   ]
  },
  {
   "cell_type": "code",
   "execution_count": 18,
   "metadata": {},
   "outputs": [],
   "source": [
    "ind_trn = [i for i in range(len(y)) if i not in ind]\n",
    "X_trn, y_trn = X[ind_trn], y[ind_trn]\n",
    "X_tst, y_tst = X[ind], y[ind]"
   ]
  },
  {
   "cell_type": "markdown",
   "metadata": {},
   "source": [
    "## Task 1: Linear Regression (40 pts)\n",
    "Task 1 requires building a linear regression model. Recall that \n",
    "$\\mathcal{L}_{w} = \\frac{1}{2} \\|\\mathbf{y} - \\mathbf{X}w\\|^{2}$, $w^{*} = \\texttt{argmin}_{w}\\mathcal{L}_{w}=(\\mathbf{X}^{T}\\mathbf{X})^{-1}\\mathbf{X}^{T}\\mathbf{y}$\n",
    "\n",
    "Then, we may have $\\hat{\\mathbf{y}} = \\mathbf{X}w^{*}$ as the linear model prediction."
   ]
  },
  {
   "cell_type": "code",
   "execution_count": 62,
   "metadata": {
    "scrolled": true
   },
   "outputs": [
    {
     "name": "stdout",
     "output_type": "stream",
     "text": [
      "4965.549364962317 4965.549364962317\n",
      "4965.549364962317\n"
     ]
    }
   ],
   "source": [
    "# Compute w^{*} on the training set; we denote w_l as w^{*} in the following codes.\n",
    "# NOTO: Complete the following line to implement the linear regression solution\n",
    "w_l = np.matmul(np.matmul(np.linalg.inv(np.matmul(np.transpose(X_trn), X_trn)), np.transpose(X_trn)), y_trn)\n",
    "# NOTO: How to get the model predition with w_l?\n",
    "# We denote y_hat as the prediction on the training set\n",
    "y_hat = np.matmul(X_trn,w_l) \n",
    "\n",
    "# Compute the objection function as a measurement\n",
    "# We have multiple choices for impmenting l2 norm\n",
    "err1 = 0.5 * ((y_trn-y_hat)**2).sum()\n",
    "err2 = 0.5 * (np.linalg.norm(y_trn-y_hat, ord=2))**2\n",
    "print(err1, err2)\n",
    "# Let's define a Lambda function for computing the err\n",
    "obj = lambda a,b: 0.5 * ((a-b)**2).sum()\n",
    "print(obj(y_trn, y_hat))"
   ]
  },
  {
   "cell_type": "code",
   "execution_count": 48,
   "metadata": {},
   "outputs": [
    {
     "name": "stdout",
     "output_type": "stream",
     "text": [
      "testing loss is 1215.714\n"
     ]
    }
   ],
   "source": [
    "# TODO: How to compute the testing loss?\n",
    "# Complete the following line to obtain predictions on the testing set\n",
    "y_tst_hat = np.matmul(X_tst,w_l)\n",
    "# TODO: Employ the pre-defined Lambda function obj to compute the testing loss\n",
    "print(\"testing loss is {:.3f}\".format(obj(y_tst,y_tst_hat)))"
   ]
  },
  {
   "cell_type": "code",
   "execution_count": 49,
   "metadata": {},
   "outputs": [
    {
     "name": "stdout",
     "output_type": "stream",
     "text": [
      "linear regression: training err=21.779, testing err=48.629\n"
     ]
    }
   ],
   "source": [
    "# Let's deinfe Mean Squared Error (MSE) for measuring the model performance\n",
    "def mse(y_hat, y):\n",
    "    return ((y_hat-y)**2).sum()/len(y)\n",
    "# TODO: Compute MSE on the training and testing sets. \n",
    "print(\"linear regression: training err={:.3f}, testing err={:.3f}\".format(mse(y_hat,y_trn), mse(y_tst_hat, y_tst)))"
   ]
  },
  {
   "cell_type": "markdown",
   "metadata": {},
   "source": [
    "##  Task 2: Ridge Regression (40 pts)\n",
    "For Ridge regression, we have\n",
    "$\\mathcal{L}_{w} = \\frac{1}{2}( \\|\\mathbf{y} - \\mathbf{X}w\\|^{2} + \\lambda \\|w\\|^{2}$), $w^{*} = \\texttt{argmin}_{w}\\mathcal{L}_{w}=(\\mathbf{X}^{T}\\mathbf{X} + \\lambda \\mathbf{I})^{-1}\\mathbf{X}^{T}\\mathbf{y}$, \n",
    "where $\\lambda > 0 $ is a trade-off hyperparameter balancing regression error and $\\ell_2$ regularization."
   ]
  },
  {
   "cell_type": "code",
   "execution_count": 57,
   "metadata": {},
   "outputs": [
    {
     "name": "stdout",
     "output_type": "stream",
     "text": [
      "Ridge regression: training err=4.221, testing err=3.712\n"
     ]
    }
   ],
   "source": [
    "# NOTE: The hyperparameter lambda (denoted as alpha in our codes) is usually pre-defined and fixed.\n",
    "alpha = 200 # lambda is a Python preserved keyword\n",
    "# TODO: How to implement w_r as the optimal solution of ridge regression?\n",
    "X_scatter = np.matmul(X_trn.T, X_trn) + alpha * np.eye(len(X_trn.T))\n",
    "# NOTE: Utilize the scatter matrix X_scatter to help you implement w_r\n",
    "w_r = np.matmul(np.matmul(np.linalg.inv(X_scatter),X_trn.T),y_trn)\n",
    "# TODO: How to obtain model predictions on training and testing sets?\n",
    "y_r_trn =  np.matmul(X_trn,w_r)  # predictions on the training set\n",
    "y_r_tst =  np.matmul(X_tst,w_r)  # predictions on the testing set\n",
    "print(\"Ridge regression: training err={:.3f}, testing err={:.3f}\".format(mse(y_hat,y_r_trn), mse(y_tst_hat, y_r_tst)))"
   ]
  },
  {
   "cell_type": "code",
   "execution_count": 58,
   "metadata": {},
   "outputs": [
    {
     "name": "stdout",
     "output_type": "stream",
     "text": [
      "[-0.10181258  0.06922355 -0.03890019  0.3759772   0.15288499  3.77793827\n",
      "  0.03395499 -0.51975428  0.14959013 -0.00845617 -0.04508548  0.0213355\n",
      " -0.52527151]\n",
      "[-0.10181258  0.06922355 -0.03890019  0.3759772   0.15288499  3.77793827\n",
      "  0.03395499 -0.51975428  0.14959013 -0.00845617 -0.04508548  0.0213355\n",
      " -0.52527151]\n",
      "Our implementation=21.779, Sklearn=3.712\n"
     ]
    }
   ],
   "source": [
    "# Check your result with the Sklearn implementation\n",
    "# We instantiate a model first\n",
    "model = linear_model.Ridge(alpha=alpha, fit_intercept=False)\n",
    "model.fit(X_trn, y_trn) # Train the model, which is exactly equivelent to what we do for computing w_r\n",
    "# Compare two implementations' obtained weights\n",
    "print(model.coef_)\n",
    "print(w_r)\n",
    "y_r_tst2 = model.predict(X_tst)\n",
    "# TODO: Compare the MSEs between our implementation and the Sklearn\n",
    "print(\"Our implementation={:.3f}, Sklearn={:.3f}\".format(mse(y_hat,y_trn), mse(y_tst_hat, y_r_tst2)))"
   ]
  },
  {
   "cell_type": "markdown",
   "metadata": {},
   "source": [
    "## Task 3: Review the concepts of over/under-fitting (20 pts)\n",
    "- *Overfitting*: You model fits the training data too well, resulting in less generalizability in handling new data (model is too complex).\n",
    "- *Underfitting*: You model underperforms on the training data (model is too simple or designed improperly)."
   ]
  },
  {
   "cell_type": "code",
   "execution_count": 61,
   "metadata": {},
   "outputs": [
    {
     "data": {
      "image/png": "[encoded data removed]",
      "text/plain": [
       "<Figure size 576x432 with 1 Axes>"
      ]
     },
     "metadata": {
      "needs_background": "light"
     },
     "output_type": "display_data"
    }
   ],
   "source": [
    "# NOTE: To show the impact of alpha on model performance, we compare MSEs given by different hyperparameters.\n",
    "# This is one example of what we called \"Parameter analysis\"\n",
    "alphas = [0.01, 0.1, 0, 10, 50, 100, 150, 200, 250, 300, 1000]\n",
    "loss_trns = []\n",
    "loss_tsts = []\n",
    "for alpha in alphas:\n",
    "    # NOTE: For each alpha, we define and train a new Sklearn ridge regression model\n",
    "    # TODO: Complete the following two lines\n",
    "    model = linear_model.Ridge(alpha=alpha, fit_intercept=False)\n",
    "    model.fit(X_trn, y_trn)\n",
    "    # TODO: For each model, we collect its training and testing errors\n",
    "    loss_trns.append(mse(model.predict(X_trn), y_trn))\n",
    "    loss_tsts.append(mse(model.predict(X_tst), y_tst))\n",
    "\n",
    "fig, ax = plt.subplots(figsize=(8,6))\n",
    "plt.grid(which='both',axis='both', color='grey',linestyle=':')\n",
    "\n",
    "plt.plot(np.arange(len(alphas)), loss_trns, label='Training', color='tab:blue', linewidth=3)\n",
    "plt.plot(np.arange(len(alphas)), loss_tsts, label='Testing', color='tab:red', linewidth=3)\n",
    "\n",
    "plt.ylabel('MSE', fontsize=18)\n",
    "plt.xlabel(r'${\\alpha}$s', fontsize=18)\n",
    "plt.xticks(np.arange(len(alphas)), alphas, fontsize=12)\n",
    "plt.legend(fancybox=True, framealpha=0.5, fontsize=18)\n",
    "plt.show()"
   ]
  },
  {
   "cell_type": "markdown",
   "metadata": {},
   "source": [
    "## How to tune $\\lambda$?\n",
    "Set a validation set, i.e., randomly sampling a validation set from the training set, to tune the hyperparameter as shown above. \n",
    "\n",
    "**Note that, it is INCORRECT to tune hyperparamters on the testing set. The above example is only for the demonstration purpose of showing overfitting vs underfitting.**"
   ]
  }
 ],
 "metadata": {
  "kernelspec": {
   "display_name": "Python 3",
   "language": "python",
   "name": "python3"
  },
  "language_info": {
   "codemirror_mode": {
    "name": "ipython",
    "version": 3
   },
   "file_extension": ".py",
   "mimetype": "text/x-python",
   "name": "python",
   "nbconvert_exporter": "python",
   "pygments_lexer": "ipython3",
   "version": "3.8.8"
  }
 },
 "nbformat": 4,
 "nbformat_minor": 4
}
